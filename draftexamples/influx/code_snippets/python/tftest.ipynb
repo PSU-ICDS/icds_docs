{
 "cells": [
  {
   "cell_type": "code",
   "execution_count": 1,
   "metadata": {},
   "outputs": [
    {
     "name": "stdout",
     "output_type": "stream",
     "text": [
      "# conda environments:\r\n",
      "#\r\n",
      "qutip-env                /storage/home/ece5034/.conda/envs/qutip-env\r\n",
      "test-env                 /storage/home/ece5034/.conda/envs/test-env\r\n",
      "tf-env                   /storage/home/ece5034/.conda/envs/tf-env\r\n",
      "tfj-env                  /storage/home/ece5034/.conda/envs/tfj-env\r\n",
      "root                  *  /opt/aci/sw/python/3.6.3_anaconda-5.0.1\r\n",
      "\r\n"
     ]
    }
   ],
   "source": [
    "! conda env list"
   ]
  },
  {
   "cell_type": "code",
   "execution_count": 2,
   "metadata": {
    "collapsed": true
   },
   "outputs": [],
   "source": [
    "! source activate tf-env"
   ]
  },
  {
   "cell_type": "code",
   "execution_count": 3,
   "metadata": {},
   "outputs": [
    {
     "name": "stdout",
     "output_type": "stream",
     "text": [
      "# conda environments:\r\n",
      "#\r\n",
      "qutip-env                /storage/home/ece5034/.conda/envs/qutip-env\r\n",
      "test-env                 /storage/home/ece5034/.conda/envs/test-env\r\n",
      "tf-env                   /storage/home/ece5034/.conda/envs/tf-env\r\n",
      "tfj-env                  /storage/home/ece5034/.conda/envs/tfj-env\r\n",
      "root                  *  /opt/aci/sw/python/3.6.3_anaconda-5.0.1\r\n",
      "\r\n"
     ]
    }
   ],
   "source": [
    "! conda env list"
   ]
  },
  {
   "cell_type": "code",
   "execution_count": null,
   "metadata": {
    "collapsed": true
   },
   "outputs": [],
   "source": []
  }
 ],
 "metadata": {
  "kernelspec": {
   "display_name": "Python (tf-env)",
   "language": "python",
   "name": "tf-env"
  },
  "language_info": {
   "codemirror_mode": {
    "name": "ipython",
    "version": 3
   },
   "file_extension": ".py",
   "mimetype": "text/x-python",
   "name": "python",
   "nbconvert_exporter": "python",
   "pygments_lexer": "ipython3",
   "version": "3.6.3"
  }
 },
 "nbformat": 4,
 "nbformat_minor": 2
}
